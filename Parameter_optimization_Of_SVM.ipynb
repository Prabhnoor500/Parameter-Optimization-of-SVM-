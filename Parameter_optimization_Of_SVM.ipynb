{
  "nbformat": 4,
  "nbformat_minor": 0,
  "metadata": {
    "colab": {
      "provenance": [],
      "authorship_tag": "ABX9TyPM5g8Ef0Dor4qgsFIAf1yn",
      "include_colab_link": true
    },
    "kernelspec": {
      "name": "python3",
      "display_name": "Python 3"
    },
    "language_info": {
      "name": "python"
    }
  },
  "cells": [
    {
      "cell_type": "markdown",
      "metadata": {
        "id": "view-in-github",
        "colab_type": "text"
      },
      "source": [
        "<a href=\"https://colab.research.google.com/github/Prabhnoor500/Parameter-Optimization-of-SVM-/blob/main/Parameter_optimization_Of_SVM.ipynb\" target=\"_parent\"><img src=\"https://colab.research.google.com/assets/colab-badge.svg\" alt=\"Open In Colab\"/></a>"
      ]
    },
    {
      "cell_type": "code",
      "execution_count": 1,
      "metadata": {
        "id": "e4e8d9a3"
      },
      "outputs": [],
      "source": [
        "import pandas as pd\n",
        "import numpy as np\n",
        "from sklearn import preprocessing\n",
        "from sklearn.model_selection import RandomizedSearchCV \n",
        "from sklearn.svm import SVC as svc \n",
        "import seaborn as sns\n",
        "import matplotlib.pyplot as plt\n",
        "from sklearn.model_selection import train_test_split,cross_val_score\n",
        "from sklearn.metrics import classification_report,confusion_matrix,accuracy_score\n",
        "from sklearn.model_selection import StratifiedKFold\n",
        "import random"
      ]
    },
    {
      "cell_type": "code",
      "execution_count": 3,
      "metadata": {
        "id": "64d92ab6"
      },
      "outputs": [],
      "source": [
        "df = pd.read_csv(\"frog.csv\")"
      ]
    },
    {
      "cell_type": "code",
      "execution_count": 4,
      "metadata": {
        "colab": {
          "base_uri": "https://localhost:8080/",
          "height": 505
        },
        "id": "bb007140",
        "outputId": "59bd52d0-a843-4d04-a9ea-775ae73b9354"
      },
      "outputs": [
        {
          "output_type": "execute_result",
          "data": {
            "text/plain": [
              "      MFCCs_ 1  MFCCs_ 2  MFCCs_ 3  MFCCs_ 4  MFCCs_ 5  MFCCs_ 6  MFCCs_ 7  \\\n",
              "0          1.0  0.152936 -0.105586  0.200722  0.317201  0.260764  0.100945   \n",
              "1          1.0  0.171534 -0.098975  0.268425  0.338672  0.268353  0.060835   \n",
              "2          1.0  0.152317 -0.082973  0.287128  0.276014  0.189867  0.008714   \n",
              "3          1.0  0.224392  0.118985  0.329432  0.372088  0.361005  0.015501   \n",
              "4          1.0  0.087817 -0.068345  0.306967  0.330923  0.249144  0.006884   \n",
              "...        ...       ...       ...       ...       ...       ...       ...   \n",
              "7190       1.0 -0.554504 -0.337717  0.035533  0.034511  0.443451  0.093889   \n",
              "7191       1.0 -0.517273 -0.370574  0.030673  0.068097  0.402890  0.096628   \n",
              "7192       1.0 -0.582557 -0.343237  0.029468  0.064179  0.385596  0.114905   \n",
              "7193       1.0 -0.519497 -0.307553 -0.004922  0.072865  0.377131  0.086866   \n",
              "7194       1.0 -0.508833 -0.324106  0.062068  0.078211  0.397188  0.094596   \n",
              "\n",
              "      MFCCs_ 8  MFCCs_ 9  MFCCs_10  ...  MFCCs_17  MFCCs_18  MFCCs_19  \\\n",
              "0    -0.150063 -0.171128  0.124676  ... -0.108351 -0.077623 -0.009568   \n",
              "1    -0.222475 -0.207693  0.170883  ... -0.090974 -0.056510 -0.035303   \n",
              "2    -0.242234 -0.219153  0.232538  ... -0.050691 -0.023590 -0.066722   \n",
              "3    -0.194347 -0.098181  0.270375  ... -0.136009 -0.177037 -0.130498   \n",
              "4    -0.265423 -0.172700  0.266434  ... -0.048885 -0.053074 -0.088550   \n",
              "...        ...       ...       ...  ...       ...       ...       ...   \n",
              "7190 -0.100753  0.037087  0.081075  ...  0.069430  0.071001  0.021591   \n",
              "7191 -0.116460  0.063727  0.089034  ...  0.061127  0.068978  0.017745   \n",
              "7192 -0.103317  0.070370  0.081317  ...  0.082474  0.077771 -0.009688   \n",
              "7193 -0.115799  0.056979  0.089316  ...  0.051796  0.069073  0.017963   \n",
              "7194 -0.117672  0.058874  0.076180  ...  0.061455  0.072983 -0.003980   \n",
              "\n",
              "      MFCCs_20  MFCCs_21  MFCCs_22           Family      Genus  \\\n",
              "0     0.057684  0.118680  0.014038  Leptodactylidae  Adenomera   \n",
              "1     0.020140  0.082263  0.029056  Leptodactylidae  Adenomera   \n",
              "2    -0.025083  0.099108  0.077162  Leptodactylidae  Adenomera   \n",
              "3    -0.054766 -0.018691  0.023954  Leptodactylidae  Adenomera   \n",
              "4    -0.031346  0.108610  0.079244  Leptodactylidae  Adenomera   \n",
              "...        ...       ...       ...              ...        ...   \n",
              "7190  0.052449 -0.021860 -0.079860          Hylidae     Scinax   \n",
              "7191  0.046461 -0.015418 -0.101892          Hylidae     Scinax   \n",
              "7192  0.027834 -0.000531 -0.080425          Hylidae     Scinax   \n",
              "7193  0.041803 -0.027911 -0.096895          Hylidae     Scinax   \n",
              "7194  0.031560 -0.029355 -0.087910          Hylidae     Scinax   \n",
              "\n",
              "             Species  RecordID  \n",
              "0     AdenomeraAndre         1  \n",
              "1     AdenomeraAndre         1  \n",
              "2     AdenomeraAndre         1  \n",
              "3     AdenomeraAndre         1  \n",
              "4     AdenomeraAndre         1  \n",
              "...              ...       ...  \n",
              "7190     ScinaxRuber        60  \n",
              "7191     ScinaxRuber        60  \n",
              "7192     ScinaxRuber        60  \n",
              "7193     ScinaxRuber        60  \n",
              "7194     ScinaxRuber        60  \n",
              "\n",
              "[7195 rows x 26 columns]"
            ],
            "text/html": [
              "\n",
              "  <div id=\"df-ecf6a63b-4200-4c99-9349-97c1ae747262\">\n",
              "    <div class=\"colab-df-container\">\n",
              "      <div>\n",
              "<style scoped>\n",
              "    .dataframe tbody tr th:only-of-type {\n",
              "        vertical-align: middle;\n",
              "    }\n",
              "\n",
              "    .dataframe tbody tr th {\n",
              "        vertical-align: top;\n",
              "    }\n",
              "\n",
              "    .dataframe thead th {\n",
              "        text-align: right;\n",
              "    }\n",
              "</style>\n",
              "<table border=\"1\" class=\"dataframe\">\n",
              "  <thead>\n",
              "    <tr style=\"text-align: right;\">\n",
              "      <th></th>\n",
              "      <th>MFCCs_ 1</th>\n",
              "      <th>MFCCs_ 2</th>\n",
              "      <th>MFCCs_ 3</th>\n",
              "      <th>MFCCs_ 4</th>\n",
              "      <th>MFCCs_ 5</th>\n",
              "      <th>MFCCs_ 6</th>\n",
              "      <th>MFCCs_ 7</th>\n",
              "      <th>MFCCs_ 8</th>\n",
              "      <th>MFCCs_ 9</th>\n",
              "      <th>MFCCs_10</th>\n",
              "      <th>...</th>\n",
              "      <th>MFCCs_17</th>\n",
              "      <th>MFCCs_18</th>\n",
              "      <th>MFCCs_19</th>\n",
              "      <th>MFCCs_20</th>\n",
              "      <th>MFCCs_21</th>\n",
              "      <th>MFCCs_22</th>\n",
              "      <th>Family</th>\n",
              "      <th>Genus</th>\n",
              "      <th>Species</th>\n",
              "      <th>RecordID</th>\n",
              "    </tr>\n",
              "  </thead>\n",
              "  <tbody>\n",
              "    <tr>\n",
              "      <th>0</th>\n",
              "      <td>1.0</td>\n",
              "      <td>0.152936</td>\n",
              "      <td>-0.105586</td>\n",
              "      <td>0.200722</td>\n",
              "      <td>0.317201</td>\n",
              "      <td>0.260764</td>\n",
              "      <td>0.100945</td>\n",
              "      <td>-0.150063</td>\n",
              "      <td>-0.171128</td>\n",
              "      <td>0.124676</td>\n",
              "      <td>...</td>\n",
              "      <td>-0.108351</td>\n",
              "      <td>-0.077623</td>\n",
              "      <td>-0.009568</td>\n",
              "      <td>0.057684</td>\n",
              "      <td>0.118680</td>\n",
              "      <td>0.014038</td>\n",
              "      <td>Leptodactylidae</td>\n",
              "      <td>Adenomera</td>\n",
              "      <td>AdenomeraAndre</td>\n",
              "      <td>1</td>\n",
              "    </tr>\n",
              "    <tr>\n",
              "      <th>1</th>\n",
              "      <td>1.0</td>\n",
              "      <td>0.171534</td>\n",
              "      <td>-0.098975</td>\n",
              "      <td>0.268425</td>\n",
              "      <td>0.338672</td>\n",
              "      <td>0.268353</td>\n",
              "      <td>0.060835</td>\n",
              "      <td>-0.222475</td>\n",
              "      <td>-0.207693</td>\n",
              "      <td>0.170883</td>\n",
              "      <td>...</td>\n",
              "      <td>-0.090974</td>\n",
              "      <td>-0.056510</td>\n",
              "      <td>-0.035303</td>\n",
              "      <td>0.020140</td>\n",
              "      <td>0.082263</td>\n",
              "      <td>0.029056</td>\n",
              "      <td>Leptodactylidae</td>\n",
              "      <td>Adenomera</td>\n",
              "      <td>AdenomeraAndre</td>\n",
              "      <td>1</td>\n",
              "    </tr>\n",
              "    <tr>\n",
              "      <th>2</th>\n",
              "      <td>1.0</td>\n",
              "      <td>0.152317</td>\n",
              "      <td>-0.082973</td>\n",
              "      <td>0.287128</td>\n",
              "      <td>0.276014</td>\n",
              "      <td>0.189867</td>\n",
              "      <td>0.008714</td>\n",
              "      <td>-0.242234</td>\n",
              "      <td>-0.219153</td>\n",
              "      <td>0.232538</td>\n",
              "      <td>...</td>\n",
              "      <td>-0.050691</td>\n",
              "      <td>-0.023590</td>\n",
              "      <td>-0.066722</td>\n",
              "      <td>-0.025083</td>\n",
              "      <td>0.099108</td>\n",
              "      <td>0.077162</td>\n",
              "      <td>Leptodactylidae</td>\n",
              "      <td>Adenomera</td>\n",
              "      <td>AdenomeraAndre</td>\n",
              "      <td>1</td>\n",
              "    </tr>\n",
              "    <tr>\n",
              "      <th>3</th>\n",
              "      <td>1.0</td>\n",
              "      <td>0.224392</td>\n",
              "      <td>0.118985</td>\n",
              "      <td>0.329432</td>\n",
              "      <td>0.372088</td>\n",
              "      <td>0.361005</td>\n",
              "      <td>0.015501</td>\n",
              "      <td>-0.194347</td>\n",
              "      <td>-0.098181</td>\n",
              "      <td>0.270375</td>\n",
              "      <td>...</td>\n",
              "      <td>-0.136009</td>\n",
              "      <td>-0.177037</td>\n",
              "      <td>-0.130498</td>\n",
              "      <td>-0.054766</td>\n",
              "      <td>-0.018691</td>\n",
              "      <td>0.023954</td>\n",
              "      <td>Leptodactylidae</td>\n",
              "      <td>Adenomera</td>\n",
              "      <td>AdenomeraAndre</td>\n",
              "      <td>1</td>\n",
              "    </tr>\n",
              "    <tr>\n",
              "      <th>4</th>\n",
              "      <td>1.0</td>\n",
              "      <td>0.087817</td>\n",
              "      <td>-0.068345</td>\n",
              "      <td>0.306967</td>\n",
              "      <td>0.330923</td>\n",
              "      <td>0.249144</td>\n",
              "      <td>0.006884</td>\n",
              "      <td>-0.265423</td>\n",
              "      <td>-0.172700</td>\n",
              "      <td>0.266434</td>\n",
              "      <td>...</td>\n",
              "      <td>-0.048885</td>\n",
              "      <td>-0.053074</td>\n",
              "      <td>-0.088550</td>\n",
              "      <td>-0.031346</td>\n",
              "      <td>0.108610</td>\n",
              "      <td>0.079244</td>\n",
              "      <td>Leptodactylidae</td>\n",
              "      <td>Adenomera</td>\n",
              "      <td>AdenomeraAndre</td>\n",
              "      <td>1</td>\n",
              "    </tr>\n",
              "    <tr>\n",
              "      <th>...</th>\n",
              "      <td>...</td>\n",
              "      <td>...</td>\n",
              "      <td>...</td>\n",
              "      <td>...</td>\n",
              "      <td>...</td>\n",
              "      <td>...</td>\n",
              "      <td>...</td>\n",
              "      <td>...</td>\n",
              "      <td>...</td>\n",
              "      <td>...</td>\n",
              "      <td>...</td>\n",
              "      <td>...</td>\n",
              "      <td>...</td>\n",
              "      <td>...</td>\n",
              "      <td>...</td>\n",
              "      <td>...</td>\n",
              "      <td>...</td>\n",
              "      <td>...</td>\n",
              "      <td>...</td>\n",
              "      <td>...</td>\n",
              "      <td>...</td>\n",
              "    </tr>\n",
              "    <tr>\n",
              "      <th>7190</th>\n",
              "      <td>1.0</td>\n",
              "      <td>-0.554504</td>\n",
              "      <td>-0.337717</td>\n",
              "      <td>0.035533</td>\n",
              "      <td>0.034511</td>\n",
              "      <td>0.443451</td>\n",
              "      <td>0.093889</td>\n",
              "      <td>-0.100753</td>\n",
              "      <td>0.037087</td>\n",
              "      <td>0.081075</td>\n",
              "      <td>...</td>\n",
              "      <td>0.069430</td>\n",
              "      <td>0.071001</td>\n",
              "      <td>0.021591</td>\n",
              "      <td>0.052449</td>\n",
              "      <td>-0.021860</td>\n",
              "      <td>-0.079860</td>\n",
              "      <td>Hylidae</td>\n",
              "      <td>Scinax</td>\n",
              "      <td>ScinaxRuber</td>\n",
              "      <td>60</td>\n",
              "    </tr>\n",
              "    <tr>\n",
              "      <th>7191</th>\n",
              "      <td>1.0</td>\n",
              "      <td>-0.517273</td>\n",
              "      <td>-0.370574</td>\n",
              "      <td>0.030673</td>\n",
              "      <td>0.068097</td>\n",
              "      <td>0.402890</td>\n",
              "      <td>0.096628</td>\n",
              "      <td>-0.116460</td>\n",
              "      <td>0.063727</td>\n",
              "      <td>0.089034</td>\n",
              "      <td>...</td>\n",
              "      <td>0.061127</td>\n",
              "      <td>0.068978</td>\n",
              "      <td>0.017745</td>\n",
              "      <td>0.046461</td>\n",
              "      <td>-0.015418</td>\n",
              "      <td>-0.101892</td>\n",
              "      <td>Hylidae</td>\n",
              "      <td>Scinax</td>\n",
              "      <td>ScinaxRuber</td>\n",
              "      <td>60</td>\n",
              "    </tr>\n",
              "    <tr>\n",
              "      <th>7192</th>\n",
              "      <td>1.0</td>\n",
              "      <td>-0.582557</td>\n",
              "      <td>-0.343237</td>\n",
              "      <td>0.029468</td>\n",
              "      <td>0.064179</td>\n",
              "      <td>0.385596</td>\n",
              "      <td>0.114905</td>\n",
              "      <td>-0.103317</td>\n",
              "      <td>0.070370</td>\n",
              "      <td>0.081317</td>\n",
              "      <td>...</td>\n",
              "      <td>0.082474</td>\n",
              "      <td>0.077771</td>\n",
              "      <td>-0.009688</td>\n",
              "      <td>0.027834</td>\n",
              "      <td>-0.000531</td>\n",
              "      <td>-0.080425</td>\n",
              "      <td>Hylidae</td>\n",
              "      <td>Scinax</td>\n",
              "      <td>ScinaxRuber</td>\n",
              "      <td>60</td>\n",
              "    </tr>\n",
              "    <tr>\n",
              "      <th>7193</th>\n",
              "      <td>1.0</td>\n",
              "      <td>-0.519497</td>\n",
              "      <td>-0.307553</td>\n",
              "      <td>-0.004922</td>\n",
              "      <td>0.072865</td>\n",
              "      <td>0.377131</td>\n",
              "      <td>0.086866</td>\n",
              "      <td>-0.115799</td>\n",
              "      <td>0.056979</td>\n",
              "      <td>0.089316</td>\n",
              "      <td>...</td>\n",
              "      <td>0.051796</td>\n",
              "      <td>0.069073</td>\n",
              "      <td>0.017963</td>\n",
              "      <td>0.041803</td>\n",
              "      <td>-0.027911</td>\n",
              "      <td>-0.096895</td>\n",
              "      <td>Hylidae</td>\n",
              "      <td>Scinax</td>\n",
              "      <td>ScinaxRuber</td>\n",
              "      <td>60</td>\n",
              "    </tr>\n",
              "    <tr>\n",
              "      <th>7194</th>\n",
              "      <td>1.0</td>\n",
              "      <td>-0.508833</td>\n",
              "      <td>-0.324106</td>\n",
              "      <td>0.062068</td>\n",
              "      <td>0.078211</td>\n",
              "      <td>0.397188</td>\n",
              "      <td>0.094596</td>\n",
              "      <td>-0.117672</td>\n",
              "      <td>0.058874</td>\n",
              "      <td>0.076180</td>\n",
              "      <td>...</td>\n",
              "      <td>0.061455</td>\n",
              "      <td>0.072983</td>\n",
              "      <td>-0.003980</td>\n",
              "      <td>0.031560</td>\n",
              "      <td>-0.029355</td>\n",
              "      <td>-0.087910</td>\n",
              "      <td>Hylidae</td>\n",
              "      <td>Scinax</td>\n",
              "      <td>ScinaxRuber</td>\n",
              "      <td>60</td>\n",
              "    </tr>\n",
              "  </tbody>\n",
              "</table>\n",
              "<p>7195 rows × 26 columns</p>\n",
              "</div>\n",
              "      <button class=\"colab-df-convert\" onclick=\"convertToInteractive('df-ecf6a63b-4200-4c99-9349-97c1ae747262')\"\n",
              "              title=\"Convert this dataframe to an interactive table.\"\n",
              "              style=\"display:none;\">\n",
              "        \n",
              "  <svg xmlns=\"http://www.w3.org/2000/svg\" height=\"24px\"viewBox=\"0 0 24 24\"\n",
              "       width=\"24px\">\n",
              "    <path d=\"M0 0h24v24H0V0z\" fill=\"none\"/>\n",
              "    <path d=\"M18.56 5.44l.94 2.06.94-2.06 2.06-.94-2.06-.94-.94-2.06-.94 2.06-2.06.94zm-11 1L8.5 8.5l.94-2.06 2.06-.94-2.06-.94L8.5 2.5l-.94 2.06-2.06.94zm10 10l.94 2.06.94-2.06 2.06-.94-2.06-.94-.94-2.06-.94 2.06-2.06.94z\"/><path d=\"M17.41 7.96l-1.37-1.37c-.4-.4-.92-.59-1.43-.59-.52 0-1.04.2-1.43.59L10.3 9.45l-7.72 7.72c-.78.78-.78 2.05 0 2.83L4 21.41c.39.39.9.59 1.41.59.51 0 1.02-.2 1.41-.59l7.78-7.78 2.81-2.81c.8-.78.8-2.07 0-2.86zM5.41 20L4 18.59l7.72-7.72 1.47 1.35L5.41 20z\"/>\n",
              "  </svg>\n",
              "      </button>\n",
              "      \n",
              "  <style>\n",
              "    .colab-df-container {\n",
              "      display:flex;\n",
              "      flex-wrap:wrap;\n",
              "      gap: 12px;\n",
              "    }\n",
              "\n",
              "    .colab-df-convert {\n",
              "      background-color: #E8F0FE;\n",
              "      border: none;\n",
              "      border-radius: 50%;\n",
              "      cursor: pointer;\n",
              "      display: none;\n",
              "      fill: #1967D2;\n",
              "      height: 32px;\n",
              "      padding: 0 0 0 0;\n",
              "      width: 32px;\n",
              "    }\n",
              "\n",
              "    .colab-df-convert:hover {\n",
              "      background-color: #E2EBFA;\n",
              "      box-shadow: 0px 1px 2px rgba(60, 64, 67, 0.3), 0px 1px 3px 1px rgba(60, 64, 67, 0.15);\n",
              "      fill: #174EA6;\n",
              "    }\n",
              "\n",
              "    [theme=dark] .colab-df-convert {\n",
              "      background-color: #3B4455;\n",
              "      fill: #D2E3FC;\n",
              "    }\n",
              "\n",
              "    [theme=dark] .colab-df-convert:hover {\n",
              "      background-color: #434B5C;\n",
              "      box-shadow: 0px 1px 3px 1px rgba(0, 0, 0, 0.15);\n",
              "      filter: drop-shadow(0px 1px 2px rgba(0, 0, 0, 0.3));\n",
              "      fill: #FFFFFF;\n",
              "    }\n",
              "  </style>\n",
              "\n",
              "      <script>\n",
              "        const buttonEl =\n",
              "          document.querySelector('#df-ecf6a63b-4200-4c99-9349-97c1ae747262 button.colab-df-convert');\n",
              "        buttonEl.style.display =\n",
              "          google.colab.kernel.accessAllowed ? 'block' : 'none';\n",
              "\n",
              "        async function convertToInteractive(key) {\n",
              "          const element = document.querySelector('#df-ecf6a63b-4200-4c99-9349-97c1ae747262');\n",
              "          const dataTable =\n",
              "            await google.colab.kernel.invokeFunction('convertToInteractive',\n",
              "                                                     [key], {});\n",
              "          if (!dataTable) return;\n",
              "\n",
              "          const docLinkHtml = 'Like what you see? Visit the ' +\n",
              "            '<a target=\"_blank\" href=https://colab.research.google.com/notebooks/data_table.ipynb>data table notebook</a>'\n",
              "            + ' to learn more about interactive tables.';\n",
              "          element.innerHTML = '';\n",
              "          dataTable['output_type'] = 'display_data';\n",
              "          await google.colab.output.renderOutput(dataTable, element);\n",
              "          const docLink = document.createElement('div');\n",
              "          docLink.innerHTML = docLinkHtml;\n",
              "          element.appendChild(docLink);\n",
              "        }\n",
              "      </script>\n",
              "    </div>\n",
              "  </div>\n",
              "  "
            ]
          },
          "metadata": {},
          "execution_count": 4
        }
      ],
      "source": [
        "df"
      ]
    },
    {
      "cell_type": "code",
      "execution_count": 9,
      "metadata": {
        "id": "6aa75e8a"
      },
      "outputs": [],
      "source": [
        "l = []\n",
        "lk =[]\n",
        "ln = []\n",
        "le = []\n",
        "dim = []\n",
        "lxt = []\n",
        "lyt = []"
      ]
    },
    {
      "cell_type": "code",
      "execution_count": 6,
      "metadata": {
        "id": "9ae9b3aa"
      },
      "outputs": [],
      "source": [
        "def f(k,n,e,X_train,X_test,y_train,y_test):\n",
        "    model = svc(kernel=k,C=n,gamma=e)\n",
        "    model.fit(X_train, y_train)\n",
        "    y_pred = model.predict(X_test)\n",
        "    a = accuracy_score(y_test,y_pred)\n",
        "    return a"
      ]
    },
    {
      "cell_type": "code",
      "execution_count": 7,
      "metadata": {
        "id": "b9d940f9"
      },
      "outputs": [],
      "source": [
        "def r(dfa):\n",
        "    best_accuracy = 0\n",
        "    best_kernel = \"\"\n",
        "    best_C= 0\n",
        "    best_gamma = 0\n",
        "    it = 1000\n",
        "    kernal_list = ['rbf','sigmoid','linear','poly',]\n",
        "    X = dfa.iloc[: , 0:-1 ]\n",
        "    Y = dfa['RecordID']\n",
        "    X_train, X_test, y_train, y_test = train_test_split(X, Y, test_size = 0.25 ,random_state=42)\n",
        "    lxt.append(X_train)\n",
        "    lyt.append(y_train)\n",
        "    lit=[]\n",
        "    for i in range(it):\n",
        "        n = random.random()\n",
        "        e = random.random()\n",
        "        k = random.choice(kernal_list)\n",
        "        a = f(k,n,e, X_train, X_test, y_train, y_test)\n",
        "        if i%10==0:\n",
        "            lit.append(a)\n",
        "        if(best_accuracy < a):\n",
        "            best_accuracy = a\n",
        "            best_kernel = k\n",
        "            best_C = n\n",
        "            best_gamma = e  \n",
        "    l.append(best_accuracy)\n",
        "    lk.append(best_kernel)\n",
        "    ln.append(best_C)\n",
        "    le.append(best_gamma)\n",
        "    dim.append(lit)\n",
        "    print(best_accuracy)    "
      ]
    },
    {
      "cell_type": "code",
      "source": [
        "df = df.drop(['Species','Family','Genus'], axis=1)\n"
      ],
      "metadata": {
        "id": "fmPi2GlXzNAn"
      },
      "execution_count": 10,
      "outputs": []
    },
    {
      "cell_type": "code",
      "execution_count": 11,
      "metadata": {
        "colab": {
          "base_uri": "https://localhost:8080/"
        },
        "id": "1d54dc98",
        "outputId": "9fea7058-dcd1-4ebf-a128-675c729d6e18"
      },
      "outputs": [
        {
          "output_type": "stream",
          "name": "stdout",
          "text": [
            "0.6\n",
            "0.36\n",
            "0.56\n",
            "0.64\n",
            "0.76\n",
            "0.64\n",
            "0.44\n",
            "0.52\n",
            "0.36\n",
            "0.48\n"
          ]
        }
      ],
      "source": [
        "i=0\n",
        "while i<10:\n",
        "    i+=1\n",
        "    data = df.sample(n=100)\n",
        "    r(data)  "
      ]
    },
    {
      "cell_type": "code",
      "execution_count": 12,
      "metadata": {
        "id": "1131e368"
      },
      "outputs": [],
      "source": [
        "Sample_Number = pd.DataFrame(['S1','S2','S3','S4','S5','S6','S7','S8','S9','S10'])"
      ]
    },
    {
      "cell_type": "code",
      "execution_count": 13,
      "metadata": {
        "id": "c217b1d4"
      },
      "outputs": [],
      "source": [
        "import pandas as pd\n",
        "ans=pd.DataFrame(columns=['Best Accuracy','Best Kernel','Best C','Best Gamma'])\n",
        "ans['Best Accuracy'],ans['Best Kernel'],ans['Best C'],ans['Best Gamma']=l,lk,ln,le\n",
        "\n"
      ]
    },
    {
      "cell_type": "code",
      "execution_count": 14,
      "metadata": {
        "id": "b05047fa"
      },
      "outputs": [],
      "source": [
        "Sample_table = pd.concat([Sample_Number,ans],axis = 1)\n",
        "Sample_table.columns = ['Samples', 'Best Accuracy', 'Best Kernel','Best C','Best Gamma']"
      ]
    },
    {
      "cell_type": "code",
      "execution_count": 15,
      "metadata": {
        "id": "12469207"
      },
      "outputs": [],
      "source": [
        "file_name = 'result.xlsx'\n",
        "Sample_table.to_excel(file_name)\n"
      ]
    },
    {
      "cell_type": "code",
      "execution_count": 16,
      "metadata": {
        "id": "59eb9c8b"
      },
      "outputs": [],
      "source": [
        "mx = 0;\n",
        "ind = -1;\n",
        "for i in range(10):\n",
        "    if mx < Sample_table.at[i, 'Best Accuracy']:\n",
        "        ind = i\n",
        "        mx = Sample_table.at[i, 'Best Accuracy']"
      ]
    },
    {
      "cell_type": "code",
      "execution_count": 17,
      "metadata": {
        "id": "dec4c650"
      },
      "outputs": [],
      "source": [
        "y_plot=dim[ind]"
      ]
    },
    {
      "cell_type": "code",
      "execution_count": 18,
      "metadata": {
        "id": "93f9e170"
      },
      "outputs": [],
      "source": [
        "x_plot=list(range(0, 1000,10))"
      ]
    },
    {
      "cell_type": "code",
      "execution_count": 19,
      "metadata": {
        "id": "pnVjJ4wf0WVX"
      },
      "outputs": [],
      "source": [
        "x_plot=list(range(0, 1000,10))"
      ]
    },
    {
      "cell_type": "code",
      "execution_count": 20,
      "metadata": {
        "id": "99330a9e",
        "colab": {
          "base_uri": "https://localhost:8080/"
        },
        "outputId": "b9b5d8c6-a2cb-4a20-9df9-94fb8c99e445"
      },
      "outputs": [
        {
          "output_type": "execute_result",
          "data": {
            "text/plain": [
              "4"
            ]
          },
          "metadata": {},
          "execution_count": 20
        }
      ],
      "source": [
        "ind\n"
      ]
    },
    {
      "cell_type": "code",
      "execution_count": 21,
      "metadata": {
        "id": "1b04002d",
        "colab": {
          "base_uri": "https://localhost:8080/"
        },
        "outputId": "8d7b9ed2-656a-4846-8a3e-901cb0dfe059"
      },
      "outputs": [
        {
          "output_type": "stream",
          "name": "stderr",
          "text": [
            "/usr/local/lib/python3.9/dist-packages/sklearn/model_selection/_split.py:700: UserWarning: The least populated class in y has only 1 members, which is less than n_splits=2.\n",
            "  warnings.warn(\n",
            "/usr/local/lib/python3.9/dist-packages/sklearn/model_selection/_validation.py:1690: RuntimeWarning: Removed duplicate entries from 'train_sizes'. Number of ticks will be less than the size of 'train_sizes': 37 instead of 50.\n",
            "  warnings.warn(\n"
          ]
        }
      ],
      "source": [
        "from sklearn.model_selection import learning_curve\n",
        "from sklearn.svm import SVC\n",
        "\n",
        "\n",
        "train_sizes, train_scores, test_scores = learning_curve(SVC(kernel=Sample_table.at[i, 'Best Kernel'], \n",
        "                                                        C=Sample_table.at[i, 'Best C'],\n",
        "                                                        gamma=Sample_table.at[i, 'Best Gamma'],\n",
        "                                                        max_iter = 1000), lxt[i],lyt[i], cv=2, scoring='accuracy', n_jobs=-1,\n",
        "                                                        train_sizes = np.linspace(0.01, 1.0, 50))"
      ]
    },
    {
      "cell_type": "code",
      "execution_count": 22,
      "metadata": {
        "id": "aaf4a6fd"
      },
      "outputs": [],
      "source": [
        "train_mean = np.mean(train_scores, axis=1)\n",
        "test_mean = np.mean(test_scores, axis=1)\n"
      ]
    },
    {
      "cell_type": "code",
      "execution_count": 23,
      "metadata": {
        "id": "42eb6c9a",
        "colab": {
          "base_uri": "https://localhost:8080/",
          "height": 700
        },
        "outputId": "5a4141b4-3cfb-4f8f-c761-1d038eb88958"
      },
      "outputs": [
        {
          "output_type": "display_data",
          "data": {
            "text/plain": [
              "<Figure size 1200x800 with 1 Axes>"
            ],
            "image/png": "[encoded data removed]"
          },
          "metadata": {}
        }
      ],
      "source": [
        "plt.figure(figsize=(12, 8))\n",
        "plt.plot(train_sizes, train_mean, label='Training Score')\n",
        "plt.plot(train_sizes, test_mean, label='Cross-Validation Score')\n",
        "plt.xlabel('Iterations')\n",
        "plt.ylabel('Accuracy')\n",
        "plt.title(\"Iteration vs Accuracy(Best Fitness)\") \n",
        "plt.legend(loc=\"best\")\n",
        "plt.show()\n",
        "\n"
      ]
    },
    {
      "cell_type": "code",
      "execution_count": 24,
      "metadata": {
        "id": "imjFEB2VpaGk",
        "colab": {
          "base_uri": "https://localhost:8080/",
          "height": 34
        },
        "outputId": "f349ad1f-313a-4bb2-8c18-e30a2fafc402"
      },
      "outputs": [
        {
          "output_type": "display_data",
          "data": {
            "text/plain": [
              "<Figure size 640x480 with 0 Axes>"
            ]
          },
          "metadata": {}
        }
      ],
      "source": [
        "plt.savefig('svm.png')"
      ]
    },
    {
      "cell_type": "code",
      "source": [],
      "metadata": {
        "id": "dLlziyuS1LzC"
      },
      "execution_count": null,
      "outputs": []
    }
  ]
}