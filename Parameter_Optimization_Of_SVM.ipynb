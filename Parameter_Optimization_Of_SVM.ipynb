{
  "cells": [
    {
      "cell_type": "markdown",
      "metadata": {
        "id": "view-in-github",
        "colab_type": "text"
      },
      "source": [
        "<a href=\"https://colab.research.google.com/github/Prabhnoor500/Parameter-Optimization-of-SVM-/blob/main/Parameter_Optimization_Of_SVM.ipynb\" target=\"_parent\"><img src=\"https://colab.research.google.com/assets/colab-badge.svg\" alt=\"Open In Colab\"/></a>"
      ]
    },
    {
      "cell_type": "code",
      "execution_count": 2,
      "id": "e4e8d9a3",
      "metadata": {
        "id": "e4e8d9a3"
      },
      "outputs": [],
      "source": [
        "import pandas as pd\n",
        "import numpy as np\n",
        "from sklearn import preprocessing\n",
        "from sklearn.model_selection import RandomizedSearchCV \n",
        "from sklearn.svm import SVC as svc \n",
        "import seaborn as sns\n",
        "import matplotlib.pyplot as plt\n",
        "from sklearn.model_selection import train_test_split,cross_val_score\n",
        "from sklearn.metrics import classification_report,confusion_matrix,accuracy_score\n",
        "from sklearn.model_selection import StratifiedKFold\n",
        "import random"
      ]
    },
    {
      "cell_type": "code",
      "execution_count": 3,
      "id": "64d92ab6",
      "metadata": {
        "id": "64d92ab6"
      },
      "outputs": [],
      "source": [
        "df = pd.read_csv(\"frog.csv\")"
      ]
    },
    {
      "cell_type": "code",
      "execution_count": 4,
      "id": "54be0b6a",
      "metadata": {
        "id": "54be0b6a"
      },
      "outputs": [],
      "source": [
        "df = df.drop(['Species','Family','Genus'], axis=1)"
      ]
    },
    {
      "cell_type": "code",
      "execution_count": 5,
      "id": "8ead0786",
      "metadata": {
        "colab": {
          "base_uri": "https://localhost:8080/",
          "height": 505
        },
        "id": "8ead0786",
        "outputId": "2cfb0da6-6b27-484b-b258-5b7f6c81b09b"
      },
      "outputs": [
        {
          "output_type": "execute_result",
          "data": {
            "text/plain": [
              "      MFCCs_ 1  MFCCs_ 2  MFCCs_ 3  MFCCs_ 4  MFCCs_ 5  MFCCs_ 6  MFCCs_ 7  \\\n",
              "0          1.0  0.152936 -0.105586  0.200722  0.317201  0.260764  0.100945   \n",
              "1          1.0  0.171534 -0.098975  0.268425  0.338672  0.268353  0.060835   \n",
              "2          1.0  0.152317 -0.082973  0.287128  0.276014  0.189867  0.008714   \n",
              "3          1.0  0.224392  0.118985  0.329432  0.372088  0.361005  0.015501   \n",
              "4          1.0  0.087817 -0.068345  0.306967  0.330923  0.249144  0.006884   \n",
              "...        ...       ...       ...       ...       ...       ...       ...   \n",
              "7190       1.0 -0.554504 -0.337717  0.035533  0.034511  0.443451  0.093889   \n",
              "7191       1.0 -0.517273 -0.370574  0.030673  0.068097  0.402890  0.096628   \n",
              "7192       1.0 -0.582557 -0.343237  0.029468  0.064179  0.385596  0.114905   \n",
              "7193       1.0 -0.519497 -0.307553 -0.004922  0.072865  0.377131  0.086866   \n",
              "7194       1.0 -0.508833 -0.324106  0.062068  0.078211  0.397188  0.094596   \n",
              "\n",
              "      MFCCs_ 8  MFCCs_ 9  MFCCs_10  ...  MFCCs_14  MFCCs_15  MFCCs_16  \\\n",
              "0    -0.150063 -0.171128  0.124676  ...  0.082245  0.135752 -0.024017   \n",
              "1    -0.222475 -0.207693  0.170883  ...  0.022786  0.163320  0.012022   \n",
              "2    -0.242234 -0.219153  0.232538  ...  0.050791  0.207338  0.083536   \n",
              "3    -0.194347 -0.098181  0.270375  ... -0.011567  0.100413 -0.050224   \n",
              "4    -0.265423 -0.172700  0.266434  ...  0.037439  0.219153  0.062837   \n",
              "...        ...       ...       ...  ...       ...       ...       ...   \n",
              "7190 -0.100753  0.037087  0.081075  ... -0.059364  0.024206 -0.000861   \n",
              "7191 -0.116460  0.063727  0.089034  ... -0.105600  0.030767  0.006457   \n",
              "7192 -0.103317  0.070370  0.081317  ... -0.078615  0.024861  0.008696   \n",
              "7193 -0.115799  0.056979  0.089316  ... -0.075320  0.022903  0.001924   \n",
              "7194 -0.117672  0.058874  0.076180  ... -0.073415  0.042517  0.004158   \n",
              "\n",
              "      MFCCs_17  MFCCs_18  MFCCs_19  MFCCs_20  MFCCs_21  MFCCs_22  RecordID  \n",
              "0    -0.108351 -0.077623 -0.009568  0.057684  0.118680  0.014038         1  \n",
              "1    -0.090974 -0.056510 -0.035303  0.020140  0.082263  0.029056         1  \n",
              "2    -0.050691 -0.023590 -0.066722 -0.025083  0.099108  0.077162         1  \n",
              "3    -0.136009 -0.177037 -0.130498 -0.054766 -0.018691  0.023954         1  \n",
              "4    -0.048885 -0.053074 -0.088550 -0.031346  0.108610  0.079244         1  \n",
              "...        ...       ...       ...       ...       ...       ...       ...  \n",
              "7190  0.069430  0.071001  0.021591  0.052449 -0.021860 -0.079860        60  \n",
              "7191  0.061127  0.068978  0.017745  0.046461 -0.015418 -0.101892        60  \n",
              "7192  0.082474  0.077771 -0.009688  0.027834 -0.000531 -0.080425        60  \n",
              "7193  0.051796  0.069073  0.017963  0.041803 -0.027911 -0.096895        60  \n",
              "7194  0.061455  0.072983 -0.003980  0.031560 -0.029355 -0.087910        60  \n",
              "\n",
              "[7195 rows x 23 columns]"
            ],
            "text/html": [
              "\n",
              "  <div id=\"df-d891e40d-85f6-42e5-9873-2b07830e8928\">\n",
              "    <div class=\"colab-df-container\">\n",
              "      <div>\n",
              "<style scoped>\n",
              "    .dataframe tbody tr th:only-of-type {\n",
              "        vertical-align: middle;\n",
              "    }\n",
              "\n",
              "    .dataframe tbody tr th {\n",
              "        vertical-align: top;\n",
              "    }\n",
              "\n",
              "    .dataframe thead th {\n",
              "        text-align: right;\n",
              "    }\n",
              "</style>\n",
              "<table border=\"1\" class=\"dataframe\">\n",
              "  <thead>\n",
              "    <tr style=\"text-align: right;\">\n",
              "      <th></th>\n",
              "      <th>MFCCs_ 1</th>\n",
              "      <th>MFCCs_ 2</th>\n",
              "      <th>MFCCs_ 3</th>\n",
              "      <th>MFCCs_ 4</th>\n",
              "      <th>MFCCs_ 5</th>\n",
              "      <th>MFCCs_ 6</th>\n",
              "      <th>MFCCs_ 7</th>\n",
              "      <th>MFCCs_ 8</th>\n",
              "      <th>MFCCs_ 9</th>\n",
              "      <th>MFCCs_10</th>\n",
              "      <th>...</th>\n",
              "      <th>MFCCs_14</th>\n",
              "      <th>MFCCs_15</th>\n",
              "      <th>MFCCs_16</th>\n",
              "      <th>MFCCs_17</th>\n",
              "      <th>MFCCs_18</th>\n",
              "      <th>MFCCs_19</th>\n",
              "      <th>MFCCs_20</th>\n",
              "      <th>MFCCs_21</th>\n",
              "      <th>MFCCs_22</th>\n",
              "      <th>RecordID</th>\n",
              "    </tr>\n",
              "  </thead>\n",
              "  <tbody>\n",
              "    <tr>\n",
              "      <th>0</th>\n",
              "      <td>1.0</td>\n",
              "      <td>0.152936</td>\n",
              "      <td>-0.105586</td>\n",
              "      <td>0.200722</td>\n",
              "      <td>0.317201</td>\n",
              "      <td>0.260764</td>\n",
              "      <td>0.100945</td>\n",
              "      <td>-0.150063</td>\n",
              "      <td>-0.171128</td>\n",
              "      <td>0.124676</td>\n",
              "      <td>...</td>\n",
              "      <td>0.082245</td>\n",
              "      <td>0.135752</td>\n",
              "      <td>-0.024017</td>\n",
              "      <td>-0.108351</td>\n",
              "      <td>-0.077623</td>\n",
              "      <td>-0.009568</td>\n",
              "      <td>0.057684</td>\n",
              "      <td>0.118680</td>\n",
              "      <td>0.014038</td>\n",
              "      <td>1</td>\n",
              "    </tr>\n",
              "    <tr>\n",
              "      <th>1</th>\n",
              "      <td>1.0</td>\n",
              "      <td>0.171534</td>\n",
              "      <td>-0.098975</td>\n",
              "      <td>0.268425</td>\n",
              "      <td>0.338672</td>\n",
              "      <td>0.268353</td>\n",
              "      <td>0.060835</td>\n",
              "      <td>-0.222475</td>\n",
              "      <td>-0.207693</td>\n",
              "      <td>0.170883</td>\n",
              "      <td>...</td>\n",
              "      <td>0.022786</td>\n",
              "      <td>0.163320</td>\n",
              "      <td>0.012022</td>\n",
              "      <td>-0.090974</td>\n",
              "      <td>-0.056510</td>\n",
              "      <td>-0.035303</td>\n",
              "      <td>0.020140</td>\n",
              "      <td>0.082263</td>\n",
              "      <td>0.029056</td>\n",
              "      <td>1</td>\n",
              "    </tr>\n",
              "    <tr>\n",
              "      <th>2</th>\n",
              "      <td>1.0</td>\n",
              "      <td>0.152317</td>\n",
              "      <td>-0.082973</td>\n",
              "      <td>0.287128</td>\n",
              "      <td>0.276014</td>\n",
              "      <td>0.189867</td>\n",
              "      <td>0.008714</td>\n",
              "      <td>-0.242234</td>\n",
              "      <td>-0.219153</td>\n",
              "      <td>0.232538</td>\n",
              "      <td>...</td>\n",
              "      <td>0.050791</td>\n",
              "      <td>0.207338</td>\n",
              "      <td>0.083536</td>\n",
              "      <td>-0.050691</td>\n",
              "      <td>-0.023590</td>\n",
              "      <td>-0.066722</td>\n",
              "      <td>-0.025083</td>\n",
              "      <td>0.099108</td>\n",
              "      <td>0.077162</td>\n",
              "      <td>1</td>\n",
              "    </tr>\n",
              "    <tr>\n",
              "      <th>3</th>\n",
              "      <td>1.0</td>\n",
              "      <td>0.224392</td>\n",
              "      <td>0.118985</td>\n",
              "      <td>0.329432</td>\n",
              "      <td>0.372088</td>\n",
              "      <td>0.361005</td>\n",
              "      <td>0.015501</td>\n",
              "      <td>-0.194347</td>\n",
              "      <td>-0.098181</td>\n",
              "      <td>0.270375</td>\n",
              "      <td>...</td>\n",
              "      <td>-0.011567</td>\n",
              "      <td>0.100413</td>\n",
              "      <td>-0.050224</td>\n",
              "      <td>-0.136009</td>\n",
              "      <td>-0.177037</td>\n",
              "      <td>-0.130498</td>\n",
              "      <td>-0.054766</td>\n",
              "      <td>-0.018691</td>\n",
              "      <td>0.023954</td>\n",
              "      <td>1</td>\n",
              "    </tr>\n",
              "    <tr>\n",
              "      <th>4</th>\n",
              "      <td>1.0</td>\n",
              "      <td>0.087817</td>\n",
              "      <td>-0.068345</td>\n",
              "      <td>0.306967</td>\n",
              "      <td>0.330923</td>\n",
              "      <td>0.249144</td>\n",
              "      <td>0.006884</td>\n",
              "      <td>-0.265423</td>\n",
              "      <td>-0.172700</td>\n",
              "      <td>0.266434</td>\n",
              "      <td>...</td>\n",
              "      <td>0.037439</td>\n",
              "      <td>0.219153</td>\n",
              "      <td>0.062837</td>\n",
              "      <td>-0.048885</td>\n",
              "      <td>-0.053074</td>\n",
              "      <td>-0.088550</td>\n",
              "      <td>-0.031346</td>\n",
              "      <td>0.108610</td>\n",
              "      <td>0.079244</td>\n",
              "      <td>1</td>\n",
              "    </tr>\n",
              "    <tr>\n",
              "      <th>...</th>\n",
              "      <td>...</td>\n",
              "      <td>...</td>\n",
              "      <td>...</td>\n",
              "      <td>...</td>\n",
              "      <td>...</td>\n",
              "      <td>...</td>\n",
              "      <td>...</td>\n",
              "      <td>...</td>\n",
              "      <td>...</td>\n",
              "      <td>...</td>\n",
              "      <td>...</td>\n",
              "      <td>...</td>\n",
              "      <td>...</td>\n",
              "      <td>...</td>\n",
              "      <td>...</td>\n",
              "      <td>...</td>\n",
              "      <td>...</td>\n",
              "      <td>...</td>\n",
              "      <td>...</td>\n",
              "      <td>...</td>\n",
              "      <td>...</td>\n",
              "    </tr>\n",
              "    <tr>\n",
              "      <th>7190</th>\n",
              "      <td>1.0</td>\n",
              "      <td>-0.554504</td>\n",
              "      <td>-0.337717</td>\n",
              "      <td>0.035533</td>\n",
              "      <td>0.034511</td>\n",
              "      <td>0.443451</td>\n",
              "      <td>0.093889</td>\n",
              "      <td>-0.100753</td>\n",
              "      <td>0.037087</td>\n",
              "      <td>0.081075</td>\n",
              "      <td>...</td>\n",
              "      <td>-0.059364</td>\n",
              "      <td>0.024206</td>\n",
              "      <td>-0.000861</td>\n",
              "      <td>0.069430</td>\n",
              "      <td>0.071001</td>\n",
              "      <td>0.021591</td>\n",
              "      <td>0.052449</td>\n",
              "      <td>-0.021860</td>\n",
              "      <td>-0.079860</td>\n",
              "      <td>60</td>\n",
              "    </tr>\n",
              "    <tr>\n",
              "      <th>7191</th>\n",
              "      <td>1.0</td>\n",
              "      <td>-0.517273</td>\n",
              "      <td>-0.370574</td>\n",
              "      <td>0.030673</td>\n",
              "      <td>0.068097</td>\n",
              "      <td>0.402890</td>\n",
              "      <td>0.096628</td>\n",
              "      <td>-0.116460</td>\n",
              "      <td>0.063727</td>\n",
              "      <td>0.089034</td>\n",
              "      <td>...</td>\n",
              "      <td>-0.105600</td>\n",
              "      <td>0.030767</td>\n",
              "      <td>0.006457</td>\n",
              "      <td>0.061127</td>\n",
              "      <td>0.068978</td>\n",
              "      <td>0.017745</td>\n",
              "      <td>0.046461</td>\n",
              "      <td>-0.015418</td>\n",
              "      <td>-0.101892</td>\n",
              "      <td>60</td>\n",
              "    </tr>\n",
              "    <tr>\n",
              "      <th>7192</th>\n",
              "      <td>1.0</td>\n",
              "      <td>-0.582557</td>\n",
              "      <td>-0.343237</td>\n",
              "      <td>0.029468</td>\n",
              "      <td>0.064179</td>\n",
              "      <td>0.385596</td>\n",
              "      <td>0.114905</td>\n",
              "      <td>-0.103317</td>\n",
              "      <td>0.070370</td>\n",
              "      <td>0.081317</td>\n",
              "      <td>...</td>\n",
              "      <td>-0.078615</td>\n",
              "      <td>0.024861</td>\n",
              "      <td>0.008696</td>\n",
              "      <td>0.082474</td>\n",
              "      <td>0.077771</td>\n",
              "      <td>-0.009688</td>\n",
              "      <td>0.027834</td>\n",
              "      <td>-0.000531</td>\n",
              "      <td>-0.080425</td>\n",
              "      <td>60</td>\n",
              "    </tr>\n",
              "    <tr>\n",
              "      <th>7193</th>\n",
              "      <td>1.0</td>\n",
              "      <td>-0.519497</td>\n",
              "      <td>-0.307553</td>\n",
              "      <td>-0.004922</td>\n",
              "      <td>0.072865</td>\n",
              "      <td>0.377131</td>\n",
              "      <td>0.086866</td>\n",
              "      <td>-0.115799</td>\n",
              "      <td>0.056979</td>\n",
              "      <td>0.089316</td>\n",
              "      <td>...</td>\n",
              "      <td>-0.075320</td>\n",
              "      <td>0.022903</td>\n",
              "      <td>0.001924</td>\n",
              "      <td>0.051796</td>\n",
              "      <td>0.069073</td>\n",
              "      <td>0.017963</td>\n",
              "      <td>0.041803</td>\n",
              "      <td>-0.027911</td>\n",
              "      <td>-0.096895</td>\n",
              "      <td>60</td>\n",
              "    </tr>\n",
              "    <tr>\n",
              "      <th>7194</th>\n",
              "      <td>1.0</td>\n",
              "      <td>-0.508833</td>\n",
              "      <td>-0.324106</td>\n",
              "      <td>0.062068</td>\n",
              "      <td>0.078211</td>\n",
              "      <td>0.397188</td>\n",
              "      <td>0.094596</td>\n",
              "      <td>-0.117672</td>\n",
              "      <td>0.058874</td>\n",
              "      <td>0.076180</td>\n",
              "      <td>...</td>\n",
              "      <td>-0.073415</td>\n",
              "      <td>0.042517</td>\n",
              "      <td>0.004158</td>\n",
              "      <td>0.061455</td>\n",
              "      <td>0.072983</td>\n",
              "      <td>-0.003980</td>\n",
              "      <td>0.031560</td>\n",
              "      <td>-0.029355</td>\n",
              "      <td>-0.087910</td>\n",
              "      <td>60</td>\n",
              "    </tr>\n",
              "  </tbody>\n",
              "</table>\n",
              "<p>7195 rows × 23 columns</p>\n",
              "</div>\n",
              "      <button class=\"colab-df-convert\" onclick=\"convertToInteractive('df-d891e40d-85f6-42e5-9873-2b07830e8928')\"\n",
              "              title=\"Convert this dataframe to an interactive table.\"\n",
              "              style=\"display:none;\">\n",
              "        \n",
              "  <svg xmlns=\"http://www.w3.org/2000/svg\" height=\"24px\"viewBox=\"0 0 24 24\"\n",
              "       width=\"24px\">\n",
              "    <path d=\"M0 0h24v24H0V0z\" fill=\"none\"/>\n",
              "    <path d=\"M18.56 5.44l.94 2.06.94-2.06 2.06-.94-2.06-.94-.94-2.06-.94 2.06-2.06.94zm-11 1L8.5 8.5l.94-2.06 2.06-.94-2.06-.94L8.5 2.5l-.94 2.06-2.06.94zm10 10l.94 2.06.94-2.06 2.06-.94-2.06-.94-.94-2.06-.94 2.06-2.06.94z\"/><path d=\"M17.41 7.96l-1.37-1.37c-.4-.4-.92-.59-1.43-.59-.52 0-1.04.2-1.43.59L10.3 9.45l-7.72 7.72c-.78.78-.78 2.05 0 2.83L4 21.41c.39.39.9.59 1.41.59.51 0 1.02-.2 1.41-.59l7.78-7.78 2.81-2.81c.8-.78.8-2.07 0-2.86zM5.41 20L4 18.59l7.72-7.72 1.47 1.35L5.41 20z\"/>\n",
              "  </svg>\n",
              "      </button>\n",
              "      \n",
              "  <style>\n",
              "    .colab-df-container {\n",
              "      display:flex;\n",
              "      flex-wrap:wrap;\n",
              "      gap: 12px;\n",
              "    }\n",
              "\n",
              "    .colab-df-convert {\n",
              "      background-color: #E8F0FE;\n",
              "      border: none;\n",
              "      border-radius: 50%;\n",
              "      cursor: pointer;\n",
              "      display: none;\n",
              "      fill: #1967D2;\n",
              "      height: 32px;\n",
              "      padding: 0 0 0 0;\n",
              "      width: 32px;\n",
              "    }\n",
              "\n",
              "    .colab-df-convert:hover {\n",
              "      background-color: #E2EBFA;\n",
              "      box-shadow: 0px 1px 2px rgba(60, 64, 67, 0.3), 0px 1px 3px 1px rgba(60, 64, 67, 0.15);\n",
              "      fill: #174EA6;\n",
              "    }\n",
              "\n",
              "    [theme=dark] .colab-df-convert {\n",
              "      background-color: #3B4455;\n",
              "      fill: #D2E3FC;\n",
              "    }\n",
              "\n",
              "    [theme=dark] .colab-df-convert:hover {\n",
              "      background-color: #434B5C;\n",
              "      box-shadow: 0px 1px 3px 1px rgba(0, 0, 0, 0.15);\n",
              "      filter: drop-shadow(0px 1px 2px rgba(0, 0, 0, 0.3));\n",
              "      fill: #FFFFFF;\n",
              "    }\n",
              "  </style>\n",
              "\n",
              "      <script>\n",
              "        const buttonEl =\n",
              "          document.querySelector('#df-d891e40d-85f6-42e5-9873-2b07830e8928 button.colab-df-convert');\n",
              "        buttonEl.style.display =\n",
              "          google.colab.kernel.accessAllowed ? 'block' : 'none';\n",
              "\n",
              "        async function convertToInteractive(key) {\n",
              "          const element = document.querySelector('#df-d891e40d-85f6-42e5-9873-2b07830e8928');\n",
              "          const dataTable =\n",
              "            await google.colab.kernel.invokeFunction('convertToInteractive',\n",
              "                                                     [key], {});\n",
              "          if (!dataTable) return;\n",
              "\n",
              "          const docLinkHtml = 'Like what you see? Visit the ' +\n",
              "            '<a target=\"_blank\" href=https://colab.research.google.com/notebooks/data_table.ipynb>data table notebook</a>'\n",
              "            + ' to learn more about interactive tables.';\n",
              "          element.innerHTML = '';\n",
              "          dataTable['output_type'] = 'display_data';\n",
              "          await google.colab.output.renderOutput(dataTable, element);\n",
              "          const docLink = document.createElement('div');\n",
              "          docLink.innerHTML = docLinkHtml;\n",
              "          element.appendChild(docLink);\n",
              "        }\n",
              "      </script>\n",
              "    </div>\n",
              "  </div>\n",
              "  "
            ]
          },
          "metadata": {},
          "execution_count": 5
        }
      ],
      "source": [
        "df"
      ]
    },
    {
      "cell_type": "code",
      "execution_count": 6,
      "id": "6aa75e8a",
      "metadata": {
        "id": "6aa75e8a"
      },
      "outputs": [],
      "source": [
        "l = []\n",
        "lk =[]\n",
        "ln = []\n",
        "le = []"
      ]
    },
    {
      "cell_type": "code",
      "execution_count": 7,
      "id": "7976168c",
      "metadata": {
        "id": "7976168c"
      },
      "outputs": [],
      "source": [
        "dim = []"
      ]
    },
    {
      "cell_type": "code",
      "execution_count": 8,
      "id": "8a6c5130",
      "metadata": {
        "id": "8a6c5130"
      },
      "outputs": [],
      "source": [
        "# df = df.sample(n=100)\n",
        "# X = df.iloc[: , 0:-1 ]\n",
        "# Y = df['default payment next month']"
      ]
    },
    {
      "cell_type": "code",
      "execution_count": 9,
      "id": "58e448d3",
      "metadata": {
        "id": "58e448d3"
      },
      "outputs": [],
      "source": [
        "# X_train, X_test, y_train, y_test = train_test_split(X, Y, test_size = 0.25 ,random_state=8)"
      ]
    },
    {
      "cell_type": "code",
      "execution_count": 10,
      "id": "9ae9b3aa",
      "metadata": {
        "id": "9ae9b3aa"
      },
      "outputs": [],
      "source": [
        "def f(k,n,e,X_train,X_test,y_train,y_test):\n",
        "    model = svc(kernel=k,C=n,gamma=e)\n",
        "    model.fit(X_train, y_train)\n",
        "    y_pred = model.predict(X_test)\n",
        "    a = accuracy_score(y_test,y_pred)\n",
        "    return a"
      ]
    },
    {
      "cell_type": "code",
      "execution_count": 11,
      "id": "b9d940f9",
      "metadata": {
        "id": "b9d940f9"
      },
      "outputs": [],
      "source": [
        "def r(dfa):\n",
        "    ba = 0\n",
        "    bk = \"\"\n",
        "    bnu= 0\n",
        "    be = 0\n",
        "    it = 1000\n",
        "    kl = ['rbf','sigmoid','linear','poly']\n",
        "    X = dfa.iloc[: , 0:-1 ]\n",
        "    Y = dfa['RecordID']\n",
        "    X_train, X_test, y_train, y_test = train_test_split(X, Y, test_size = 0.30 ,random_state=8)\n",
        "    lit=[]\n",
        "    for i in range(it):\n",
        "        n = random.random()\n",
        "        e = random.random()\n",
        "        k = random.choice(kl)\n",
        "        a = f(k,n,e, X_train, X_test, y_train, y_test)\n",
        "        if i%10==0:\n",
        "            lit.append(a)\n",
        "        if(ba < a):\n",
        "            ba = a\n",
        "            bk = k\n",
        "            bnu = n\n",
        "            be = e  \n",
        "    l.append(ba)\n",
        "    lk.append(bk)\n",
        "    ln.append(n)\n",
        "    le.append(e)\n",
        "    dim.append(lit)\n",
        "    print(ba)    "
      ]
    },
    {
      "cell_type": "code",
      "execution_count": 12,
      "id": "c36f3c21",
      "metadata": {
        "colab": {
          "base_uri": "https://localhost:8080/"
        },
        "id": "c36f3c21",
        "outputId": "1b68d611-ef2e-4f46-ed43-80fc94716d1f"
      },
      "outputs": [
        {
          "output_type": "execute_result",
          "data": {
            "text/plain": [
              "[]"
            ]
          },
          "metadata": {},
          "execution_count": 12
        }
      ],
      "source": [
        "l"
      ]
    },
    {
      "cell_type": "code",
      "execution_count": 13,
      "id": "dc7f21d2",
      "metadata": {
        "colab": {
          "base_uri": "https://localhost:8080/"
        },
        "id": "dc7f21d2",
        "outputId": "5c0732f4-a936-433c-940b-d73dfba17439"
      },
      "outputs": [
        {
          "output_type": "execute_result",
          "data": {
            "text/plain": [
              "[]"
            ]
          },
          "metadata": {},
          "execution_count": 13
        }
      ],
      "source": [
        "le"
      ]
    },
    {
      "cell_type": "code",
      "execution_count": 14,
      "id": "373d135c",
      "metadata": {
        "colab": {
          "base_uri": "https://localhost:8080/"
        },
        "id": "373d135c",
        "outputId": "cb39288e-c3d8-4ddf-a743-3a697eb4d2b0"
      },
      "outputs": [
        {
          "output_type": "execute_result",
          "data": {
            "text/plain": [
              "[]"
            ]
          },
          "metadata": {},
          "execution_count": 14
        }
      ],
      "source": [
        "lk"
      ]
    },
    {
      "cell_type": "code",
      "execution_count": 15,
      "id": "32bd88fc",
      "metadata": {
        "colab": {
          "base_uri": "https://localhost:8080/"
        },
        "id": "32bd88fc",
        "outputId": "036bdc16-aca2-4fd7-eecf-a5bb37591275"
      },
      "outputs": [
        {
          "output_type": "execute_result",
          "data": {
            "text/plain": [
              "[]"
            ]
          },
          "metadata": {},
          "execution_count": 15
        }
      ],
      "source": [
        "ln"
      ]
    },
    {
      "cell_type": "code",
      "execution_count": 16,
      "id": "e650ba1f",
      "metadata": {
        "colab": {
          "base_uri": "https://localhost:8080/"
        },
        "id": "e650ba1f",
        "outputId": "3cf5a4c6-42aa-49a3-c6a3-2d539d8270de"
      },
      "outputs": [
        {
          "output_type": "stream",
          "name": "stdout",
          "text": [
            "0.5\n",
            "0.6666666666666666\n",
            "0.4666666666666667\n",
            "0.5666666666666667\n",
            "0.4\n",
            "0.4666666666666667\n",
            "0.5333333333333333\n",
            "0.5\n",
            "0.7333333333333333\n",
            "0.5666666666666667\n"
          ]
        }
      ],
      "source": [
        "i=0\n",
        "while i<10:\n",
        "    i+=1\n",
        "    d = df.sample(n=100)\n",
        "    r(d)  "
      ]
    },
    {
      "cell_type": "code",
      "execution_count": 17,
      "id": "8ef1923b",
      "metadata": {
        "id": "8ef1923b"
      },
      "outputs": [],
      "source": [
        "l_index = pd.DataFrame(['S1','S2','S3','S4','S5','S6','S7','S8','S9','S10'])"
      ]
    },
    {
      "cell_type": "code",
      "execution_count": 18,
      "id": "c217b1d4",
      "metadata": {
        "id": "c217b1d4"
      },
      "outputs": [],
      "source": [
        "import pandas as pd\n",
        "ans=pd.DataFrame(columns=['Best Accuracy','Best Kernel','Best C','Best Gamma'])\n",
        "ans['Best Accuracy'],ans['Best Kernel'],ans['Best C'],ans['Best Gamma']=l,lk,ln,le\n"
      ]
    },
    {
      "cell_type": "code",
      "execution_count": 19,
      "id": "8b4467c8",
      "metadata": {
        "id": "8b4467c8"
      },
      "outputs": [],
      "source": [
        "data_cbind_all = pd.concat([l_index, # Cbind DataFrames\n",
        "                            ans],\n",
        "                           axis = 1)\n",
        "data_cbind_all.columns = ['Samples', 'Best Accuracy', 'Best Kernel','Best C','Best Gamma']"
      ]
    },
    {
      "cell_type": "code",
      "execution_count": 20,
      "id": "a6673779",
      "metadata": {
        "id": "a6673779"
      },
      "outputs": [],
      "source": [
        "file_name = 'best_frog.xlsx'\n",
        "data_cbind_all.to_excel(file_name)\n"
      ]
    },
    {
      "cell_type": "code",
      "execution_count": 21,
      "id": "b04e3ec9",
      "metadata": {
        "id": "b04e3ec9"
      },
      "outputs": [],
      "source": [
        "mx = 0;\n",
        "ind = -1;\n",
        "for i in range(10):\n",
        "    if mx < data_cbind_all.at[i, 'Best Accuracy']:\n",
        "        ind = i\n",
        "        mx = data_cbind_all.at[i, 'Best Accuracy']"
      ]
    },
    {
      "cell_type": "code",
      "execution_count": 22,
      "id": "1f24353f",
      "metadata": {
        "colab": {
          "base_uri": "https://localhost:8080/"
        },
        "id": "1f24353f",
        "outputId": "0360c5a2-a2e8-4746-f42a-45390a00a7ed"
      },
      "outputs": [
        {
          "output_type": "execute_result",
          "data": {
            "text/plain": [
              "0.7333333333333333"
            ]
          },
          "metadata": {},
          "execution_count": 22
        }
      ],
      "source": [
        "mx"
      ]
    },
    {
      "cell_type": "code",
      "execution_count": 23,
      "id": "03a802fe",
      "metadata": {
        "id": "03a802fe"
      },
      "outputs": [],
      "source": [
        "y_plot=dim[ind]"
      ]
    },
    {
      "cell_type": "code",
      "execution_count": 24,
      "id": "b3dfd39b",
      "metadata": {
        "scrolled": false,
        "colab": {
          "base_uri": "https://localhost:8080/"
        },
        "id": "b3dfd39b",
        "outputId": "f1d00194-042b-44d7-d179-724ceb06e33f"
      },
      "outputs": [
        {
          "output_type": "execute_result",
          "data": {
            "text/plain": [
              "100"
            ]
          },
          "metadata": {},
          "execution_count": 24
        }
      ],
      "source": [
        "len(y_plot)"
      ]
    },
    {
      "cell_type": "code",
      "execution_count": 25,
      "id": "5b8545e9",
      "metadata": {
        "id": "5b8545e9"
      },
      "outputs": [],
      "source": [
        "x_plot=list(range(0, 1000,10))"
      ]
    },
    {
      "cell_type": "code",
      "execution_count": 28,
      "id": "fc78261d",
      "metadata": {
        "colab": {
          "base_uri": "https://localhost:8080/",
          "height": 472
        },
        "id": "fc78261d",
        "outputId": "954478f5-0464-47c7-8370-8436de76e57f"
      },
      "outputs": [
        {
          "output_type": "display_data",
          "data": {
            "text/plain": [
              "<Figure size 640x480 with 1 Axes>"
            ],
            "image/png": "[encoded data removed]"
          },
          "metadata": {}
        }
      ],
      "source": [
        "import matplotlib.pyplot as plt\n",
        "\n",
        "plt.plot(x_plot, y_plot)\n",
        "plt.xlabel(\"Iteration\") # add X-axis label\n",
        "plt.ylabel(\"Accuracy\") # add Y-axis label\n",
        "plt.title(\"Fitness(bestAccuracy)\") \n",
        "plt.savefig('SVM.png')"
      ]
    },
    {
      "cell_type": "code",
      "source": [],
      "metadata": {
        "id": "bcBtTEu5YON4"
      },
      "id": "bcBtTEu5YON4",
      "execution_count": null,
      "outputs": []
    }
  ],
  "metadata": {
    "kernelspec": {
      "display_name": "Python 3 (ipykernel)",
      "language": "python",
      "name": "python3"
    },
    "language_info": {
      "codemirror_mode": {
        "name": "ipython",
        "version": 3
      },
      "file_extension": ".py",
      "mimetype": "text/x-python",
      "name": "python",
      "nbconvert_exporter": "python",
      "pygments_lexer": "ipython3",
      "version": "3.9.16"
    },
    "colab": {
      "provenance": [],
      "include_colab_link": true
    }
  },
  "nbformat": 4,
  "nbformat_minor": 5
}